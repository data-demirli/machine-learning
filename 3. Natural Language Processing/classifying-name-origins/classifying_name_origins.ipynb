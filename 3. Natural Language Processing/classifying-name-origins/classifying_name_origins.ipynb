{
  "nbformat": 4,
  "nbformat_minor": 0,
  "metadata": {
    "colab": {
      "provenance": []
    },
    "kernelspec": {
      "name": "python3",
      "display_name": "Python 3"
    },
    "accelerator": "GPU"
  },
  "cells": [
    {
      "cell_type": "markdown",
      "source": [
        "# Classifying the Origin of Names\n",
        "* Classifying names into one of 18 origin laguages\n",
        "\n",
        "## Summary:\n",
        "**Dataset:** Names and their corresponding language origins  \n",
        "**Model:** Character-level Recurrent Neural Network which classifies names by their language origin  \n",
        "**Particulars:** Words and characters tokenization, neural-network with embedding and recurrent layers, softmax output  \n",
        "\n",
        "## Table of Contents:\n",
        "* Section 1 - Data Unpacking and Restructuring\n",
        "* Section 2 - Preprocessing Inputs (Names)\n",
        "* Section 3 - Preprocessing Labels (Origins)\n",
        "* Section 4 - Generating Model and Training\n",
        "* Section 5 - Final Model and Results"
      ],
      "metadata": {
        "id": "4q-PpCoeUZpl"
      }
    },
    {
      "cell_type": "code",
      "source": [
        "import platform\n",
        "\n",
        "import numpy as np\n",
        "import pandas as pd\n",
        "import matplotlib.pyplot as plt\n",
        "import seaborn as sns\n",
        "import tensorflow as tf\n",
        "\n",
        "from glob import glob\n",
        "from skopt import BayesSearchCV\n",
        "from skopt.space import Integer\n",
        "from scikeras.wrappers import KerasClassifier\n",
        "from sklearn.model_selection import train_test_split\n",
        "from tensorflow.keras import backend as K\n",
        "from tensorflow.keras import layers\n",
        "from tensorflow.keras.models import Sequential\n",
        "from tensorflow.keras.utils import to_categorical\n",
        "from tensorflow.keras.preprocessing.text import Tokenizer\n",
        "from tensorflow.keras.preprocessing.sequence import pad_sequences\n"
      ],
      "metadata": {
        "id": "9ahw9YqNTwoV"
      },
      "execution_count": null,
      "outputs": []
    },
    {
      "cell_type": "code",
      "source": [
        "print(\"Python version:\", platform.python_version())"
      ],
      "metadata": {
        "id": "NcZ5dUgH52CO",
        "colab": {
          "base_uri": "https://localhost:8080/"
        },
        "outputId": "f3343837-33a2-4263-b0af-fd2e432d3e44"
      },
      "execution_count": null,
      "outputs": [
        {
          "output_type": "stream",
          "name": "stdout",
          "text": [
            "Python version: 3.10.12\n"
          ]
        }
      ]
    },
    {
      "cell_type": "markdown",
      "metadata": {
        "id": "DEWnNXzcbSn9"
      },
      "source": [
        "# Section 1 - Data Unpacking and Restructuring"
      ]
    },
    {
      "cell_type": "code",
      "metadata": {
        "id": "7Xq18_khFcsK",
        "colab": {
          "base_uri": "https://localhost:8080/"
        },
        "outputId": "134c31c6-38e7-4d6d-882a-39b7a23dc787"
      },
      "source": [
        "# Importing zipped text files containing names of different origins\n",
        "\n",
        "file = !ls data.zip\n",
        "if file[0] != \"data.zip\":\n",
        "    !wget https://download.pytorch.org/tutorial/data.zip\n",
        "    !unzip data.zip"
      ],
      "execution_count": null,
      "outputs": [
        {
          "output_type": "stream",
          "name": "stdout",
          "text": [
            "--2023-10-29 20:50:05--  https://download.pytorch.org/tutorial/data.zip\n",
            "Resolving download.pytorch.org (download.pytorch.org)... 13.35.35.25, 13.35.35.55, 13.35.35.91, ...\n",
            "Connecting to download.pytorch.org (download.pytorch.org)|13.35.35.25|:443... connected.\n",
            "HTTP request sent, awaiting response... 200 OK\n",
            "Length: 2882130 (2.7M) [application/zip]\n",
            "Saving to: ‘data.zip’\n",
            "\n",
            "data.zip            100%[===================>]   2.75M  2.01MB/s    in 1.4s    \n",
            "\n",
            "2023-10-29 20:50:07 (2.01 MB/s) - ‘data.zip’ saved [2882130/2882130]\n",
            "\n",
            "Archive:  data.zip\n",
            "   creating: data/\n",
            "  inflating: data/eng-fra.txt        \n",
            "   creating: data/names/\n",
            "  inflating: data/names/Arabic.txt   \n",
            "  inflating: data/names/Chinese.txt  \n",
            "  inflating: data/names/Czech.txt    \n",
            "  inflating: data/names/Dutch.txt    \n",
            "  inflating: data/names/English.txt  \n",
            "  inflating: data/names/French.txt   \n",
            "  inflating: data/names/German.txt   \n",
            "  inflating: data/names/Greek.txt    \n",
            "  inflating: data/names/Irish.txt    \n",
            "  inflating: data/names/Italian.txt  \n",
            "  inflating: data/names/Japanese.txt  \n",
            "  inflating: data/names/Korean.txt   \n",
            "  inflating: data/names/Polish.txt   \n",
            "  inflating: data/names/Portuguese.txt  \n",
            "  inflating: data/names/Russian.txt  \n",
            "  inflating: data/names/Scottish.txt  \n",
            "  inflating: data/names/Spanish.txt  \n",
            "  inflating: data/names/Vietnamese.txt  \n"
          ]
        }
      ]
    },
    {
      "cell_type": "code",
      "source": [
        "# Displaying the contents inside the files\n",
        "open(\"data/names/English.txt\").readlines(30)"
      ],
      "metadata": {
        "colab": {
          "base_uri": "https://localhost:8080/"
        },
        "id": "FVUShP9rSS2f",
        "outputId": "9227732d-3f4f-4f60-be88-380efcc3aa1a"
      },
      "execution_count": null,
      "outputs": [
        {
          "output_type": "execute_result",
          "data": {
            "text/plain": [
              "['Abbas\\n', 'Abbey\\n', 'Abbott\\n', 'Abdi\\n', 'Abel\\n', 'Abraham\\n']"
            ]
          },
          "metadata": {},
          "execution_count": 6
        }
      ]
    },
    {
      "cell_type": "code",
      "metadata": {
        "id": "dIWLuUg0FddK",
        "colab": {
          "base_uri": "https://localhost:8080/"
        },
        "outputId": "09bef420-526d-4311-c0e3-1709a3d3b812"
      },
      "source": [
        "# Looping though the imported files to generate a list of names and a corresponding list origins\n",
        "\n",
        "data = []\n",
        "\n",
        "# Looping through imported text files\n",
        "for filename in glob(\"data/names/*.txt\"):\n",
        "    # Extracting origin from the file names\n",
        "    origin = filename.split(\"/\")[-1].split(\".txt\")[0]\n",
        "\n",
        "    # Extracting the contents of the file\n",
        "    names = open(filename).readlines()\n",
        "\n",
        "    print(origin, \"no. of names:\", len(names))\n",
        "\n",
        "    # Looping through list of names to strip non-useful characters and generate list of tuples\n",
        "    for name in names:\n",
        "        data.append((name.strip(), origin))\n",
        "\n",
        "# Perfoming a reverse zip on the list of tuples to create two lists\n",
        "names, origins = zip(*data)"
      ],
      "execution_count": null,
      "outputs": [
        {
          "output_type": "stream",
          "name": "stdout",
          "text": [
            "Japanese no. of names: 991\n",
            "French no. of names: 277\n",
            "Czech no. of names: 519\n",
            "Italian no. of names: 709\n",
            "Greek no. of names: 203\n",
            "Polish no. of names: 139\n",
            "Portuguese no. of names: 74\n",
            "Korean no. of names: 94\n",
            "Scottish no. of names: 100\n",
            "English no. of names: 3668\n",
            "German no. of names: 724\n",
            "Spanish no. of names: 298\n",
            "Chinese no. of names: 268\n",
            "Vietnamese no. of names: 73\n",
            "Dutch no. of names: 297\n",
            "Irish no. of names: 232\n",
            "Russian no. of names: 9408\n",
            "Arabic no. of names: 2000\n"
          ]
        }
      ]
    },
    {
      "cell_type": "code",
      "metadata": {
        "id": "OaPRdXKlFfCY",
        "colab": {
          "base_uri": "https://localhost:8080/"
        },
        "outputId": "204a3d95-0a0e-4df8-995d-6d6beba22fd8"
      },
      "source": [
        "# Displaying details regarding the two lists created\n",
        "\n",
        "origins_list = list(set(origins))\n",
        "\n",
        "print(\n",
        "    f\"\"\"\n",
        "{data[:5]}\n",
        "\n",
        "Names list length: {len(data):,}\n",
        "Origins set length: {len(origins_list)}\n",
        "\"\"\"\n",
        ")"
      ],
      "execution_count": null,
      "outputs": [
        {
          "output_type": "stream",
          "name": "stdout",
          "text": [
            "\n",
            "[('Abe', 'Japanese'), ('Abukara', 'Japanese'), ('Adachi', 'Japanese'), ('Aida', 'Japanese'), ('Aihara', 'Japanese')]\n",
            "\n",
            "Names list length: 20,074\n",
            "Origins set length: 18\n",
            "\n"
          ]
        }
      ]
    },
    {
      "cell_type": "markdown",
      "source": [
        "# Section 2 - Preprocessing Inputs (Names)"
      ],
      "metadata": {
        "id": "PVcdr5rdF_9w"
      }
    },
    {
      "cell_type": "code",
      "source": [
        "# Tokenizing all the characters from the available names\n",
        "tokenizer_names = Tokenizer(char_level=True)\n",
        "tokenizer_names.fit_on_texts(names)\n",
        "\n",
        "# Sequencing the tokens to have vector representations of the names\n",
        "sequenced_names = tokenizer_names.texts_to_sequences(names)\n",
        "\n",
        "# Displaying the sequencing\n",
        "print(\n",
        "    f\"\"\"\n",
        "Length of character tokens list: {len(tokenizer_names.word_index):,}\n",
        "{tokenizer_names.word_index}\n",
        "\n",
        "Vector representation of names (before padding):\n",
        "{names[:5]}\n",
        "{sequenced_names[:5]}\n",
        "\"\"\"\n",
        ")"
      ],
      "metadata": {
        "colab": {
          "base_uri": "https://localhost:8080/"
        },
        "id": "Z5jxmeMRAxK_",
        "outputId": "66df346d-c98a-44ef-b977-c09035a5541c"
      },
      "execution_count": null,
      "outputs": [
        {
          "output_type": "stream",
          "name": "stdout",
          "text": [
            "\n",
            "Length of character tokens list: 58\n",
            "{'a': 1, 'o': 2, 'e': 3, 'i': 4, 'n': 5, 'r': 6, 's': 7, 'h': 8, 'k': 9, 'l': 10, 'v': 11, 't': 12, 'u': 13, 'm': 14, 'd': 15, 'b': 16, 'y': 17, 'g': 18, 'c': 19, 'z': 20, 'f': 21, 'p': 22, 'j': 23, 'w': 24, ' ': 25, 'q': 26, \"'\": 27, 'x': 28, '-': 29, 'ö': 30, 'é': 31, 'í': 32, 'ó': 33, 'á': 34, 'ä': 35, 'ü': 36, 'à': 37, 'ß': 38, 'ú': 39, 'ñ': 40, '1': 41, 'ò': 42, 'ś': 43, ',': 44, 'è': 45, 'ż': 46, 'ã': 47, 'ê': 48, 'ç': 49, '/': 50, 'ù': 51, 'ì': 52, 'ń': 53, 'ł': 54, 'ą': 55, 'õ': 56, ':': 57, '\\xa0': 58}\n",
            "\n",
            "Vector representation of names (before padding):\n",
            "('Abe', 'Abukara', 'Adachi', 'Aida', 'Aihara')\n",
            "[[1, 16, 3], [1, 16, 13, 9, 1, 6, 1], [1, 15, 1, 19, 8, 4], [1, 4, 15, 1], [1, 4, 8, 1, 6, 1]]\n",
            "\n"
          ]
        }
      ]
    },
    {
      "cell_type": "code",
      "source": [
        "# Padding name vectors with 0's on the front end in order to generate vectors of equal length\n",
        "\n",
        "name_lengths = []\n",
        "\n",
        "# Checking for the maximum name length\n",
        "for i in sequenced_names:\n",
        "    name_lengths.append(len(i))\n",
        "\n",
        "max_name_length = max(name_lengths)\n",
        "\n",
        "X = np.array(pad_sequences(sequenced_names, maxlen=max_name_length))\n",
        "\n",
        "# Displaying a padded vector\n",
        "print(\n",
        "    f\"\"\"\n",
        "Length of input vectors with padding: {max_name_length:,}\n",
        "\n",
        "{X[0:1]}\n",
        "\"\"\"\n",
        ")"
      ],
      "metadata": {
        "colab": {
          "base_uri": "https://localhost:8080/"
        },
        "id": "xNrN7VwBjx_i",
        "outputId": "6e85cbc1-a50b-4488-eefd-de713a08f482"
      },
      "execution_count": null,
      "outputs": [
        {
          "output_type": "stream",
          "name": "stdout",
          "text": [
            "\n",
            "Length of input vectors with padding: 20\n",
            "\n",
            "[[ 0  0  0  0  0  0  0  0  0  0  0  0  0  0  0  0  0  1 16  3]]\n",
            "\n"
          ]
        }
      ]
    },
    {
      "cell_type": "markdown",
      "source": [
        "# Section 3 - Preprocessing Labels (Origins)"
      ],
      "metadata": {
        "id": "qnM6BbiWF4sW"
      }
    },
    {
      "cell_type": "code",
      "source": [
        "# Tokenizing each of the 18 origins\n",
        "tokenizer_origins = Tokenizer()\n",
        "tokenizer_origins.fit_on_texts(origins)\n",
        "\n",
        "# Converting the origins to the token values\n",
        "indexed_origins = tokenizer_origins.texts_to_sequences(origins)\n",
        "\n",
        "# Converting the tokens into one-hot encoded vectors\n",
        "y = to_categorical(list(np.array(indexed_origins) - 1), num_classes=18)\n",
        "\n",
        "# Displaying the final vectors\n",
        "print(\n",
        "    f\"\"\"\n",
        "Length of character tokens list: {len(tokenizer_origins.word_index):,}\n",
        "{tokenizer_origins.word_index}\n",
        "\n",
        "One-hot encoded representation of Origins:\n",
        "{y[:1]}\n",
        "\"\"\"\n",
        ")"
      ],
      "metadata": {
        "colab": {
          "base_uri": "https://localhost:8080/"
        },
        "id": "ACsKOatmAQ0l",
        "outputId": "b0230224-15b0-4af3-e7db-bfda87976300"
      },
      "execution_count": null,
      "outputs": [
        {
          "output_type": "stream",
          "name": "stdout",
          "text": [
            "\n",
            "Length of character tokens list: 18\n",
            "{'russian': 1, 'english': 2, 'arabic': 3, 'japanese': 4, 'german': 5, 'italian': 6, 'czech': 7, 'spanish': 8, 'dutch': 9, 'french': 10, 'chinese': 11, 'irish': 12, 'greek': 13, 'polish': 14, 'scottish': 15, 'korean': 16, 'portuguese': 17, 'vietnamese': 18}\n",
            "\n",
            "One-hot encoded representation of Origins:\n",
            "[[0. 0. 0. 1. 0. 0. 0. 0. 0. 0. 0. 0. 0. 0. 0. 0. 0. 0.]]\n",
            "\n"
          ]
        }
      ]
    },
    {
      "cell_type": "markdown",
      "source": [
        "# Section 4 - Generating Model and Training"
      ],
      "metadata": {
        "id": "BLybc61jN0Ad"
      }
    },
    {
      "cell_type": "code",
      "source": [
        "# Splitting data into training and test sets\n",
        "X_train, X_test, y_train, y_test = train_test_split(\n",
        "    X, y, test_size=0.20, shuffle=True, stratify=y, random_state=1\n",
        ")"
      ],
      "metadata": {
        "id": "fuYROu1uNOMu"
      },
      "execution_count": null,
      "outputs": []
    },
    {
      "cell_type": "code",
      "source": [
        "# Containing neural network architecture within a function for reproducibility and for use in wrapper (see below)\n",
        "\n",
        "def create_model_function(nodes_no_1: int, nodes_no_2: int):\n",
        "    \"\"\"\n",
        "    Fully connected neural network consists of:\n",
        "    an embedding layer, two recurrent layers, and two dense layers,\n",
        "    with a softmax output displaying the predicted probability of each origin\n",
        "\n",
        "    \"\"\"\n",
        "\n",
        "    K.clear_session()\n",
        "    tf.random.set_seed(0)\n",
        "\n",
        "    # Embedding output will be of dimension 100\n",
        "    model = Sequential()\n",
        "    model.add(\n",
        "        layers.Embedding(\n",
        "            len(tokenizer_names.word_index) + 1,\n",
        "            nodes_no_1,\n",
        "            input_length=max_name_length,\n",
        "        )\n",
        "    )\n",
        "    model.add(layers.GRU(nodes_no_2, return_sequences=True))\n",
        "    model.add(layers.GRU(nodes_no_2))\n",
        "    model.add(layers.Dense(nodes_no_2, activation=\"relu\"))\n",
        "    model.add(layers.Dense(len(tokenizer_origins.word_index), activation=\"softmax\"))\n",
        "\n",
        "    model.compile(\n",
        "        loss=\"categorical_crossentropy\",\n",
        "        optimizer=\"adam\",\n",
        "        metrics=[\"categorical_accuracy\"],\n",
        "    )\n",
        "\n",
        "    return model"
      ],
      "metadata": {
        "id": "gyuTCICIBGfH"
      },
      "execution_count": null,
      "outputs": []
    },
    {
      "cell_type": "code",
      "source": [
        "# Using BayesSearchCV to use different hyperparameters with k-fold cross validation\n",
        "\n",
        "# Initializing variables which will also be used for final model\n",
        "EPOCHS_NO = 15\n",
        "BATCH_SIZE_NO = None\n",
        "\n",
        "# Wrapper needed to use BayesSearchCV on Tensorflow model\n",
        "wrapper_model = KerasClassifier(\n",
        "    model=create_model_function,\n",
        "    nodes_no_1=100,\n",
        "    nodes_no_2=150,\n",
        ")\n",
        "\n",
        "search_space = {\n",
        "    \"nodes_no_1\": Integer(10, 250),\n",
        "    \"nodes_no_2\": Integer(10, 250),\n",
        "}\n",
        "\n",
        "BSCV_text_classif = BayesSearchCV(\n",
        "    wrapper_model,\n",
        "    search_space,\n",
        "    n_iter=9,\n",
        "    cv=4,\n",
        "    scoring=\"accuracy\",\n",
        "    random_state=1,\n",
        ")\n",
        "\n",
        "BSCV_text_classif.fit(\n",
        "    X_train, y_train, epochs=EPOCHS_NO, batch_size=BATCH_SIZE_NO, verbose=0\n",
        ")\n",
        "\n",
        "# Storing BayesSearchCV results as a dataframe, sorted by score\n",
        "results_df = pd.DataFrame(BSCV_text_classif.cv_results_)\n",
        "results_df = results_df.sort_values(\"mean_test_score\", ascending=False).reset_index()\n",
        "\n",
        "# Storing the best hyperparameter values\n",
        "best_params = results_df.iloc[0][\"params\"]\n",
        "\n",
        "display(results_df[0:3], best_params)"
      ],
      "metadata": {
        "id": "zNIPtStDBJbi",
        "colab": {
          "base_uri": "https://localhost:8080/",
          "height": 962
        },
        "outputId": "8503cac4-7dfd-413b-8921-20e56a178d4f"
      },
      "execution_count": null,
      "outputs": [
        {
          "output_type": "stream",
          "name": "stdout",
          "text": [
            "126/126 [==============================] - 1s 4ms/step\n",
            "126/126 [==============================] - 1s 3ms/step\n",
            "126/126 [==============================] - 1s 3ms/step\n",
            "126/126 [==============================] - 1s 3ms/step\n",
            "126/126 [==============================] - 1s 3ms/step\n",
            "126/126 [==============================] - 1s 3ms/step\n",
            "126/126 [==============================] - 1s 3ms/step\n",
            "126/126 [==============================] - 1s 3ms/step\n",
            "126/126 [==============================] - 1s 4ms/step\n",
            "126/126 [==============================] - 1s 3ms/step\n",
            "126/126 [==============================] - 1s 3ms/step\n",
            "126/126 [==============================] - 1s 3ms/step\n",
            "126/126 [==============================] - 1s 3ms/step\n",
            "126/126 [==============================] - 1s 3ms/step\n",
            "126/126 [==============================] - 1s 3ms/step\n",
            "126/126 [==============================] - 1s 3ms/step\n",
            "126/126 [==============================] - 1s 3ms/step\n",
            "126/126 [==============================] - 1s 3ms/step\n",
            "126/126 [==============================] - 1s 4ms/step\n",
            "126/126 [==============================] - 1s 3ms/step\n",
            "126/126 [==============================] - 1s 3ms/step\n",
            "126/126 [==============================] - 1s 3ms/step\n",
            "126/126 [==============================] - 1s 3ms/step\n",
            "126/126 [==============================] - 1s 3ms/step\n",
            "126/126 [==============================] - 1s 4ms/step\n",
            "126/126 [==============================] - 1s 3ms/step\n",
            "126/126 [==============================] - 1s 3ms/step\n",
            "126/126 [==============================] - 1s 3ms/step\n",
            "126/126 [==============================] - 1s 3ms/step\n",
            "126/126 [==============================] - 1s 3ms/step\n",
            "126/126 [==============================] - 1s 4ms/step\n",
            "126/126 [==============================] - 2s 3ms/step\n",
            "126/126 [==============================] - 1s 3ms/step\n",
            "126/126 [==============================] - 1s 3ms/step\n",
            "126/126 [==============================] - 1s 3ms/step\n",
            "126/126 [==============================] - 1s 3ms/step\n"
          ]
        },
        {
          "output_type": "display_data",
          "data": {
            "text/plain": [
              "   index  mean_fit_time  std_fit_time  mean_score_time  std_score_time  \\\n",
              "0      4      44.391872      1.353101         1.246572        0.157912   \n",
              "1      1      44.216331      1.689427         1.084615        0.086849   \n",
              "2      5      44.614170      1.467517         1.184803        0.072584   \n",
              "\n",
              "  param_nodes_no_1 param_nodes_no_2                                  params  \\\n",
              "0              221               96   {'nodes_no_1': 221, 'nodes_no_2': 96}   \n",
              "1              174               90   {'nodes_no_1': 174, 'nodes_no_2': 90}   \n",
              "2              242              114  {'nodes_no_1': 242, 'nodes_no_2': 114}   \n",
              "\n",
              "   split0_test_score  split1_test_score  split2_test_score  split3_test_score  \\\n",
              "0           0.813948           0.823910           0.815442           0.822372   \n",
              "1           0.815691           0.802740           0.816936           0.825112   \n",
              "2           0.804981           0.821918           0.809215           0.820130   \n",
              "\n",
              "   mean_test_score  std_test_score  rank_test_score  \n",
              "0         0.818918        0.004291                1  \n",
              "1         0.815120        0.008012                2  \n",
              "2         0.814061        0.007150                3  "
            ],
            "text/html": [
              "\n",
              "  <div id=\"df-56bbd6f5-a1e3-4810-af1c-44bc354538e1\" class=\"colab-df-container\">\n",
              "    <div>\n",
              "<style scoped>\n",
              "    .dataframe tbody tr th:only-of-type {\n",
              "        vertical-align: middle;\n",
              "    }\n",
              "\n",
              "    .dataframe tbody tr th {\n",
              "        vertical-align: top;\n",
              "    }\n",
              "\n",
              "    .dataframe thead th {\n",
              "        text-align: right;\n",
              "    }\n",
              "</style>\n",
              "<table border=\"1\" class=\"dataframe\">\n",
              "  <thead>\n",
              "    <tr style=\"text-align: right;\">\n",
              "      <th></th>\n",
              "      <th>index</th>\n",
              "      <th>mean_fit_time</th>\n",
              "      <th>std_fit_time</th>\n",
              "      <th>mean_score_time</th>\n",
              "      <th>std_score_time</th>\n",
              "      <th>param_nodes_no_1</th>\n",
              "      <th>param_nodes_no_2</th>\n",
              "      <th>params</th>\n",
              "      <th>split0_test_score</th>\n",
              "      <th>split1_test_score</th>\n",
              "      <th>split2_test_score</th>\n",
              "      <th>split3_test_score</th>\n",
              "      <th>mean_test_score</th>\n",
              "      <th>std_test_score</th>\n",
              "      <th>rank_test_score</th>\n",
              "    </tr>\n",
              "  </thead>\n",
              "  <tbody>\n",
              "    <tr>\n",
              "      <th>0</th>\n",
              "      <td>4</td>\n",
              "      <td>44.391872</td>\n",
              "      <td>1.353101</td>\n",
              "      <td>1.246572</td>\n",
              "      <td>0.157912</td>\n",
              "      <td>221</td>\n",
              "      <td>96</td>\n",
              "      <td>{'nodes_no_1': 221, 'nodes_no_2': 96}</td>\n",
              "      <td>0.813948</td>\n",
              "      <td>0.823910</td>\n",
              "      <td>0.815442</td>\n",
              "      <td>0.822372</td>\n",
              "      <td>0.818918</td>\n",
              "      <td>0.004291</td>\n",
              "      <td>1</td>\n",
              "    </tr>\n",
              "    <tr>\n",
              "      <th>1</th>\n",
              "      <td>1</td>\n",
              "      <td>44.216331</td>\n",
              "      <td>1.689427</td>\n",
              "      <td>1.084615</td>\n",
              "      <td>0.086849</td>\n",
              "      <td>174</td>\n",
              "      <td>90</td>\n",
              "      <td>{'nodes_no_1': 174, 'nodes_no_2': 90}</td>\n",
              "      <td>0.815691</td>\n",
              "      <td>0.802740</td>\n",
              "      <td>0.816936</td>\n",
              "      <td>0.825112</td>\n",
              "      <td>0.815120</td>\n",
              "      <td>0.008012</td>\n",
              "      <td>2</td>\n",
              "    </tr>\n",
              "    <tr>\n",
              "      <th>2</th>\n",
              "      <td>5</td>\n",
              "      <td>44.614170</td>\n",
              "      <td>1.467517</td>\n",
              "      <td>1.184803</td>\n",
              "      <td>0.072584</td>\n",
              "      <td>242</td>\n",
              "      <td>114</td>\n",
              "      <td>{'nodes_no_1': 242, 'nodes_no_2': 114}</td>\n",
              "      <td>0.804981</td>\n",
              "      <td>0.821918</td>\n",
              "      <td>0.809215</td>\n",
              "      <td>0.820130</td>\n",
              "      <td>0.814061</td>\n",
              "      <td>0.007150</td>\n",
              "      <td>3</td>\n",
              "    </tr>\n",
              "  </tbody>\n",
              "</table>\n",
              "</div>\n",
              "    <div class=\"colab-df-buttons\">\n",
              "\n",
              "  <div class=\"colab-df-container\">\n",
              "    <button class=\"colab-df-convert\" onclick=\"convertToInteractive('df-56bbd6f5-a1e3-4810-af1c-44bc354538e1')\"\n",
              "            title=\"Convert this dataframe to an interactive table.\"\n",
              "            style=\"display:none;\">\n",
              "\n",
              "  <svg xmlns=\"http://www.w3.org/2000/svg\" height=\"24px\" viewBox=\"0 -960 960 960\">\n",
              "    <path d=\"M120-120v-720h720v720H120Zm60-500h600v-160H180v160Zm220 220h160v-160H400v160Zm0 220h160v-160H400v160ZM180-400h160v-160H180v160Zm440 0h160v-160H620v160ZM180-180h160v-160H180v160Zm440 0h160v-160H620v160Z\"/>\n",
              "  </svg>\n",
              "    </button>\n",
              "\n",
              "  <style>\n",
              "    .colab-df-container {\n",
              "      display:flex;\n",
              "      gap: 12px;\n",
              "    }\n",
              "\n",
              "    .colab-df-convert {\n",
              "      background-color: #E8F0FE;\n",
              "      border: none;\n",
              "      border-radius: 50%;\n",
              "      cursor: pointer;\n",
              "      display: none;\n",
              "      fill: #1967D2;\n",
              "      height: 32px;\n",
              "      padding: 0 0 0 0;\n",
              "      width: 32px;\n",
              "    }\n",
              "\n",
              "    .colab-df-convert:hover {\n",
              "      background-color: #E2EBFA;\n",
              "      box-shadow: 0px 1px 2px rgba(60, 64, 67, 0.3), 0px 1px 3px 1px rgba(60, 64, 67, 0.15);\n",
              "      fill: #174EA6;\n",
              "    }\n",
              "\n",
              "    .colab-df-buttons div {\n",
              "      margin-bottom: 4px;\n",
              "    }\n",
              "\n",
              "    [theme=dark] .colab-df-convert {\n",
              "      background-color: #3B4455;\n",
              "      fill: #D2E3FC;\n",
              "    }\n",
              "\n",
              "    [theme=dark] .colab-df-convert:hover {\n",
              "      background-color: #434B5C;\n",
              "      box-shadow: 0px 1px 3px 1px rgba(0, 0, 0, 0.15);\n",
              "      filter: drop-shadow(0px 1px 2px rgba(0, 0, 0, 0.3));\n",
              "      fill: #FFFFFF;\n",
              "    }\n",
              "  </style>\n",
              "\n",
              "    <script>\n",
              "      const buttonEl =\n",
              "        document.querySelector('#df-56bbd6f5-a1e3-4810-af1c-44bc354538e1 button.colab-df-convert');\n",
              "      buttonEl.style.display =\n",
              "        google.colab.kernel.accessAllowed ? 'block' : 'none';\n",
              "\n",
              "      async function convertToInteractive(key) {\n",
              "        const element = document.querySelector('#df-56bbd6f5-a1e3-4810-af1c-44bc354538e1');\n",
              "        const dataTable =\n",
              "          await google.colab.kernel.invokeFunction('convertToInteractive',\n",
              "                                                    [key], {});\n",
              "        if (!dataTable) return;\n",
              "\n",
              "        const docLinkHtml = 'Like what you see? Visit the ' +\n",
              "          '<a target=\"_blank\" href=https://colab.research.google.com/notebooks/data_table.ipynb>data table notebook</a>'\n",
              "          + ' to learn more about interactive tables.';\n",
              "        element.innerHTML = '';\n",
              "        dataTable['output_type'] = 'display_data';\n",
              "        await google.colab.output.renderOutput(dataTable, element);\n",
              "        const docLink = document.createElement('div');\n",
              "        docLink.innerHTML = docLinkHtml;\n",
              "        element.appendChild(docLink);\n",
              "      }\n",
              "    </script>\n",
              "  </div>\n",
              "\n",
              "\n",
              "<div id=\"df-fb813660-905c-4ca4-bc9b-d06f58bf1bbb\">\n",
              "  <button class=\"colab-df-quickchart\" onclick=\"quickchart('df-fb813660-905c-4ca4-bc9b-d06f58bf1bbb')\"\n",
              "            title=\"Suggest charts.\"\n",
              "            style=\"display:none;\">\n",
              "\n",
              "<svg xmlns=\"http://www.w3.org/2000/svg\" height=\"24px\"viewBox=\"0 0 24 24\"\n",
              "     width=\"24px\">\n",
              "    <g>\n",
              "        <path d=\"M19 3H5c-1.1 0-2 .9-2 2v14c0 1.1.9 2 2 2h14c1.1 0 2-.9 2-2V5c0-1.1-.9-2-2-2zM9 17H7v-7h2v7zm4 0h-2V7h2v10zm4 0h-2v-4h2v4z\"/>\n",
              "    </g>\n",
              "</svg>\n",
              "  </button>\n",
              "\n",
              "<style>\n",
              "  .colab-df-quickchart {\n",
              "      --bg-color: #E8F0FE;\n",
              "      --fill-color: #1967D2;\n",
              "      --hover-bg-color: #E2EBFA;\n",
              "      --hover-fill-color: #174EA6;\n",
              "      --disabled-fill-color: #AAA;\n",
              "      --disabled-bg-color: #DDD;\n",
              "  }\n",
              "\n",
              "  [theme=dark] .colab-df-quickchart {\n",
              "      --bg-color: #3B4455;\n",
              "      --fill-color: #D2E3FC;\n",
              "      --hover-bg-color: #434B5C;\n",
              "      --hover-fill-color: #FFFFFF;\n",
              "      --disabled-bg-color: #3B4455;\n",
              "      --disabled-fill-color: #666;\n",
              "  }\n",
              "\n",
              "  .colab-df-quickchart {\n",
              "    background-color: var(--bg-color);\n",
              "    border: none;\n",
              "    border-radius: 50%;\n",
              "    cursor: pointer;\n",
              "    display: none;\n",
              "    fill: var(--fill-color);\n",
              "    height: 32px;\n",
              "    padding: 0;\n",
              "    width: 32px;\n",
              "  }\n",
              "\n",
              "  .colab-df-quickchart:hover {\n",
              "    background-color: var(--hover-bg-color);\n",
              "    box-shadow: 0 1px 2px rgba(60, 64, 67, 0.3), 0 1px 3px 1px rgba(60, 64, 67, 0.15);\n",
              "    fill: var(--button-hover-fill-color);\n",
              "  }\n",
              "\n",
              "  .colab-df-quickchart-complete:disabled,\n",
              "  .colab-df-quickchart-complete:disabled:hover {\n",
              "    background-color: var(--disabled-bg-color);\n",
              "    fill: var(--disabled-fill-color);\n",
              "    box-shadow: none;\n",
              "  }\n",
              "\n",
              "  .colab-df-spinner {\n",
              "    border: 2px solid var(--fill-color);\n",
              "    border-color: transparent;\n",
              "    border-bottom-color: var(--fill-color);\n",
              "    animation:\n",
              "      spin 1s steps(1) infinite;\n",
              "  }\n",
              "\n",
              "  @keyframes spin {\n",
              "    0% {\n",
              "      border-color: transparent;\n",
              "      border-bottom-color: var(--fill-color);\n",
              "      border-left-color: var(--fill-color);\n",
              "    }\n",
              "    20% {\n",
              "      border-color: transparent;\n",
              "      border-left-color: var(--fill-color);\n",
              "      border-top-color: var(--fill-color);\n",
              "    }\n",
              "    30% {\n",
              "      border-color: transparent;\n",
              "      border-left-color: var(--fill-color);\n",
              "      border-top-color: var(--fill-color);\n",
              "      border-right-color: var(--fill-color);\n",
              "    }\n",
              "    40% {\n",
              "      border-color: transparent;\n",
              "      border-right-color: var(--fill-color);\n",
              "      border-top-color: var(--fill-color);\n",
              "    }\n",
              "    60% {\n",
              "      border-color: transparent;\n",
              "      border-right-color: var(--fill-color);\n",
              "    }\n",
              "    80% {\n",
              "      border-color: transparent;\n",
              "      border-right-color: var(--fill-color);\n",
              "      border-bottom-color: var(--fill-color);\n",
              "    }\n",
              "    90% {\n",
              "      border-color: transparent;\n",
              "      border-bottom-color: var(--fill-color);\n",
              "    }\n",
              "  }\n",
              "</style>\n",
              "\n",
              "  <script>\n",
              "    async function quickchart(key) {\n",
              "      const quickchartButtonEl =\n",
              "        document.querySelector('#' + key + ' button');\n",
              "      quickchartButtonEl.disabled = true;  // To prevent multiple clicks.\n",
              "      quickchartButtonEl.classList.add('colab-df-spinner');\n",
              "      try {\n",
              "        const charts = await google.colab.kernel.invokeFunction(\n",
              "            'suggestCharts', [key], {});\n",
              "      } catch (error) {\n",
              "        console.error('Error during call to suggestCharts:', error);\n",
              "      }\n",
              "      quickchartButtonEl.classList.remove('colab-df-spinner');\n",
              "      quickchartButtonEl.classList.add('colab-df-quickchart-complete');\n",
              "    }\n",
              "    (() => {\n",
              "      let quickchartButtonEl =\n",
              "        document.querySelector('#df-fb813660-905c-4ca4-bc9b-d06f58bf1bbb button');\n",
              "      quickchartButtonEl.style.display =\n",
              "        google.colab.kernel.accessAllowed ? 'block' : 'none';\n",
              "    })();\n",
              "  </script>\n",
              "</div>\n",
              "    </div>\n",
              "  </div>\n"
            ]
          },
          "metadata": {}
        },
        {
          "output_type": "display_data",
          "data": {
            "text/plain": [
              "OrderedDict([('nodes_no_1', 221), ('nodes_no_2', 96)])"
            ]
          },
          "metadata": {}
        }
      ]
    },
    {
      "cell_type": "code",
      "source": [
        "# Plotting the results for different hyperparameters and sets of features\n",
        "\n",
        "sns.set_theme(\n",
        "    rc={\"axes.facecolor\": \"whitesmoke\", \"axes.edgecolor\": \"black\"}, font_scale=1\n",
        ")\n",
        "\n",
        "fig, axs = plt.subplots(1, 2, figsize=(12, 3), sharey=True)\n",
        "\n",
        "for i, (param_category, ax) in enumerate(zip(search_space, axs.ravel())):\n",
        "    sns.scatterplot(\n",
        "        data=results_df,\n",
        "        x=\"param_\" + param_category,\n",
        "        y=\"mean_test_score\",\n",
        "        ax=ax,\n",
        "    )\n",
        "\n",
        "plt.subplots_adjust(wspace=0.05, hspace=0.45)\n",
        "fig.suptitle(\"Hyperparameter Results\", y=1.0, fontsize=20);"
      ],
      "metadata": {
        "id": "kRhsl1ivV-9E",
        "colab": {
          "base_uri": "https://localhost:8080/",
          "height": 356
        },
        "outputId": "2248e3c5-1e2a-436c-9898-bacc4cbf3e46"
      },
      "execution_count": null,
      "outputs": [
        {
          "output_type": "display_data",
          "data": {
            "text/plain": [
              "<Figure size 1200x300 with 2 Axes>"
            ],
            "image/png": "[encoded data removed]"
          },
          "metadata": {}
        }
      ]
    },
    {
      "cell_type": "markdown",
      "source": [
        "# Section  5 - Final Model and Results"
      ],
      "metadata": {
        "id": "HSYbSnBeFr7W"
      }
    },
    {
      "cell_type": "code",
      "source": [
        "# Generating the final model using the best hyperparameters\n",
        "\n",
        "final_model = create_model_function(**best_params)\n",
        "\n",
        "h = final_model.fit(\n",
        "    X_train,\n",
        "    y_train,\n",
        "    epochs=EPOCHS_NO,\n",
        "    batch_size=BATCH_SIZE_NO,\n",
        "    validation_data=(X_test, y_test),\n",
        "    verbose=0,\n",
        ")\n",
        "\n",
        "final_model.summary()"
      ],
      "metadata": {
        "id": "WGf2xNGrNi3k",
        "colab": {
          "base_uri": "https://localhost:8080/"
        },
        "outputId": "4b141daa-1ffd-43f3-f262-261b2e8ab8ca"
      },
      "execution_count": null,
      "outputs": [
        {
          "output_type": "stream",
          "name": "stdout",
          "text": [
            "Model: \"sequential\"\n",
            "_________________________________________________________________\n",
            " Layer (type)                Output Shape              Param #   \n",
            "=================================================================\n",
            " embedding (Embedding)       (None, 20, 221)           13039     \n",
            "                                                                 \n",
            " gru (GRU)                   (None, 20, 96)            91872     \n",
            "                                                                 \n",
            " gru_1 (GRU)                 (None, 96)                55872     \n",
            "                                                                 \n",
            " dense (Dense)               (None, 96)                9312      \n",
            "                                                                 \n",
            " dense_1 (Dense)             (None, 18)                1746      \n",
            "                                                                 \n",
            "=================================================================\n",
            "Total params: 171841 (671.25 KB)\n",
            "Trainable params: 171841 (671.25 KB)\n",
            "Non-trainable params: 0 (0.00 Byte)\n",
            "_________________________________________________________________\n"
          ]
        }
      ]
    },
    {
      "cell_type": "code",
      "source": [
        "# Plotting the model metrics and scoring for each epoch during training (test set)\n",
        "\n",
        "sns.set_theme(\n",
        "    rc={\n",
        "        \"axes.facecolor\": \"white\",\n",
        "        \"axes.edgecolor\": \"black\",\n",
        "        \"axes.linewidth\": 0.8,\n",
        "    },\n",
        "    font_scale=1,\n",
        ")\n",
        "\n",
        "fig, ax = plt.subplots(1, 2, figsize=(17, 5))\n",
        "\n",
        "ax[0].plot(h.history[\"loss\"], label=\"Training Data\")\n",
        "ax[0].plot(h.history[\"val_loss\"], label=\"Test Data\")\n",
        "ax[0].set_xlabel(\"Epoch\")\n",
        "ax[0].set_title(\"Cross-Entropy Loss Chart\", y=1.01, fontsize=15)\n",
        "ax[0].legend()\n",
        "\n",
        "ax[1].plot(h.history[\"categorical_accuracy\"], label=\"Training Data\")\n",
        "ax[1].plot(h.history[\"val_categorical_accuracy\"], label=\"Test Data\")\n",
        "ax[1].set_xlabel(\"Epoch\")\n",
        "ax[1].set_title(\"Accuracy Chart\", y=1.01, fontsize=15)\n",
        "ax[1].legend();"
      ],
      "metadata": {
        "id": "8zF4GzV_Wcr7",
        "colab": {
          "base_uri": "https://localhost:8080/",
          "height": 501
        },
        "outputId": "68e904fe-1cda-480d-baa2-532860bc767c"
      },
      "execution_count": null,
      "outputs": [
        {
          "output_type": "display_data",
          "data": {
            "text/plain": [
              "<Figure size 1700x500 with 2 Axes>"
            ],
            "image/png": "[encoded data removed]"
          },
          "metadata": {}
        }
      ]
    },
    {
      "cell_type": "code",
      "source": [
        "# Displaying the final model metrics and scoring on the test set\n",
        "\n",
        "test_loss, test_accuracy = final_model.evaluate(X_test, y_test)\n",
        "\n",
        "print(\n",
        "    f\"\"\"\n",
        "Test Set Cross-Entropy Loss: {test_loss:0.3f}\n",
        "Test Set Accuracy Score: {test_accuracy:0.3f}\n",
        "\"\"\"\n",
        ")"
      ],
      "metadata": {
        "id": "tKtTLC-WEF1i",
        "colab": {
          "base_uri": "https://localhost:8080/"
        },
        "outputId": "c884e8b3-d03b-4978-da20-683387c15940"
      },
      "execution_count": null,
      "outputs": [
        {
          "output_type": "stream",
          "name": "stdout",
          "text": [
            "126/126 [==============================] - 1s 4ms/step - loss: 0.7875 - categorical_accuracy: 0.8249\n",
            "\n",
            "Test Set Cross-Entropy Loss: 0.787\n",
            "Test Set Accuracy Score: 0.825\n",
            "\n"
          ]
        }
      ]
    },
    {
      "cell_type": "code",
      "metadata": {
        "id": "BWnm8nvuFgTF"
      },
      "source": [
        "# Function generated to use model and make predictions\n",
        "\n",
        "# Creates a dictionary of the origins with the token values as the keys\n",
        "origins_dictionary = dict(\n",
        "    [(token, origin) for (origin, token) in tokenizer_origins.word_index.items()]\n",
        ")\n",
        "\n",
        "def predict_origin_function(name: str):\n",
        "    assert isinstance(name, str)\n",
        "\n",
        "    # Converts name into padded sequence of tokens\n",
        "    sequenced_name = tokenizer_names.texts_to_sequences([name])\n",
        "    x_name = np.array(pad_sequences(sequenced_name, maxlen=max_name_length))\n",
        "\n",
        "    y_output = final_model.predict(x_name)\n",
        "    # Finding the vector index with the highest probability, then index + 1 used to return the corresponding token value, which is the key used in the origins dictionary\n",
        "    y_origin = origins_dictionary[np.argmax(y_output) + 1]\n",
        "    return y_origin"
      ],
      "execution_count": null,
      "outputs": []
    },
    {
      "cell_type": "code",
      "source": [
        "# Displaying prediction outputs for two names using the function\n",
        "print(\n",
        "    f\"\"\"\n",
        "Origin prediction for the name James: {predict_origin_function(\"James\")}\n",
        "Origin prediction for the name Evva: {predict_origin_function(\"Evva\")}\n",
        "\"\"\"\n",
        ")"
      ],
      "metadata": {
        "id": "XDGA_qymbscX",
        "colab": {
          "base_uri": "https://localhost:8080/"
        },
        "outputId": "01b4e7e8-752a-40b8-cd87-537c36ccc2a5"
      },
      "execution_count": null,
      "outputs": [
        {
          "output_type": "stream",
          "name": "stdout",
          "text": [
            "1/1 [==============================] - 1s 591ms/step\n",
            "1/1 [==============================] - 0s 18ms/step\n",
            "\n",
            "Origin prediction for the name James: english\n",
            "Origin prediction for the name Evva: russian\n",
            "\n"
          ]
        }
      ]
    }
  ]
}